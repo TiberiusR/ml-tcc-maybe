{
 "cells": [
  {
   "cell_type": "markdown",
   "metadata": {},
   "source": [
    "## Import libraries"
   ]
  },
  {
   "cell_type": "code",
   "execution_count": 1,
   "metadata": {},
   "outputs": [],
   "source": [
    "import pandas as pd\n",
    "import matplotlib.pyplot as plt\n",
    "import numpy as np"
   ]
  },
  {
   "cell_type": "markdown",
   "metadata": {},
   "source": [
    "## Import dataset"
   ]
  },
  {
   "cell_type": "code",
   "execution_count": 2,
   "metadata": {},
   "outputs": [
    {
     "data": {
      "text/html": [
       "<div>\n",
       "<style scoped>\n",
       "    .dataframe tbody tr th:only-of-type {\n",
       "        vertical-align: middle;\n",
       "    }\n",
       "\n",
       "    .dataframe tbody tr th {\n",
       "        vertical-align: top;\n",
       "    }\n",
       "\n",
       "    .dataframe thead th {\n",
       "        text-align: right;\n",
       "    }\n",
       "</style>\n",
       "<table border=\"1\" class=\"dataframe\">\n",
       "  <thead>\n",
       "    <tr style=\"text-align: right;\">\n",
       "      <th></th>\n",
       "      <th>Age</th>\n",
       "      <th>EstimatedSalary</th>\n",
       "      <th>Purchased</th>\n",
       "    </tr>\n",
       "  </thead>\n",
       "  <tbody>\n",
       "    <tr>\n",
       "      <th>0</th>\n",
       "      <td>19</td>\n",
       "      <td>19000</td>\n",
       "      <td>0</td>\n",
       "    </tr>\n",
       "    <tr>\n",
       "      <th>1</th>\n",
       "      <td>35</td>\n",
       "      <td>20000</td>\n",
       "      <td>0</td>\n",
       "    </tr>\n",
       "    <tr>\n",
       "      <th>2</th>\n",
       "      <td>26</td>\n",
       "      <td>43000</td>\n",
       "      <td>0</td>\n",
       "    </tr>\n",
       "    <tr>\n",
       "      <th>3</th>\n",
       "      <td>27</td>\n",
       "      <td>57000</td>\n",
       "      <td>0</td>\n",
       "    </tr>\n",
       "    <tr>\n",
       "      <th>4</th>\n",
       "      <td>19</td>\n",
       "      <td>76000</td>\n",
       "      <td>0</td>\n",
       "    </tr>\n",
       "  </tbody>\n",
       "</table>\n",
       "</div>"
      ],
      "text/plain": [
       "   Age  EstimatedSalary  Purchased\n",
       "0   19            19000          0\n",
       "1   35            20000          0\n",
       "2   26            43000          0\n",
       "3   27            57000          0\n",
       "4   19            76000          0"
      ]
     },
     "execution_count": 2,
     "metadata": {},
     "output_type": "execute_result"
    }
   ],
   "source": [
    "df = pd.read_csv('Social_Network_Ads.csv')\n",
    "df.head(5)"
   ]
  },
  {
   "cell_type": "code",
   "execution_count": 3,
   "metadata": {},
   "outputs": [],
   "source": [
    "x = df.iloc[:, :-1].values\n",
    "y = df.iloc[:, -1].values"
   ]
  },
  {
   "cell_type": "markdown",
   "metadata": {},
   "source": [
    "## Split the dataset (train / test)"
   ]
  },
  {
   "cell_type": "code",
   "execution_count": 4,
   "metadata": {},
   "outputs": [],
   "source": [
    "from sklearn.model_selection import train_test_split\n",
    "x_train, x_test, y_train, y_test = train_test_split(x, y, test_size=0.25, random_state = 0)"
   ]
  },
  {
   "cell_type": "markdown",
   "metadata": {},
   "source": [
    "## Feature scaling"
   ]
  },
  {
   "cell_type": "code",
   "execution_count": 5,
   "metadata": {},
   "outputs": [],
   "source": [
    "from sklearn.preprocessing import StandardScaler\n",
    "sc = StandardScaler()\n",
    "x_train = sc.fit_transform(x_train)\n",
    "x_test = sc.transform(x_test)"
   ]
  },
  {
   "cell_type": "markdown",
   "metadata": {},
   "source": [
    "## Training the model"
   ]
  },
  {
   "cell_type": "code",
   "execution_count": 6,
   "metadata": {},
   "outputs": [],
   "source": [
    "from sklearn.naive_bayes import GaussianNB"
   ]
  },
  {
   "cell_type": "code",
   "execution_count": 8,
   "metadata": {},
   "outputs": [],
   "source": [
    "classifier = GaussianNB()"
   ]
  },
  {
   "cell_type": "code",
   "execution_count": 9,
   "metadata": {},
   "outputs": [
    {
     "data": {
      "text/plain": [
       "GaussianNB()"
      ]
     },
     "execution_count": 9,
     "metadata": {},
     "output_type": "execute_result"
    }
   ],
   "source": [
    "classifier.fit(x_train, y_train)"
   ]
  },
  {
   "cell_type": "markdown",
   "metadata": {},
   "source": [
    "## Predicting new result"
   ]
  },
  {
   "cell_type": "code",
   "execution_count": 10,
   "metadata": {},
   "outputs": [
    {
     "name": "stdout",
     "output_type": "stream",
     "text": [
      "[0]\n"
     ]
    }
   ],
   "source": [
    "print(classifier.predict(sc.transform([[30, 87000]])))"
   ]
  },
  {
   "cell_type": "markdown",
   "metadata": {},
   "source": [
    "## Predicting test results"
   ]
  },
  {
   "cell_type": "code",
   "execution_count": 11,
   "metadata": {},
   "outputs": [
    {
     "name": "stdout",
     "output_type": "stream",
     "text": [
      "[[0 0]\n",
      " [0 0]\n",
      " [0 0]\n",
      " [0 0]\n",
      " [0 0]\n",
      " [0 0]\n",
      " [0 0]\n",
      " [1 1]\n",
      " [0 0]\n",
      " [1 0]\n",
      " [0 0]\n",
      " [0 0]\n",
      " [0 0]\n",
      " [0 0]\n",
      " [0 0]\n",
      " [0 0]\n",
      " [0 0]\n",
      " [0 0]\n",
      " [1 1]\n",
      " [0 0]\n",
      " [0 0]\n",
      " [1 1]\n",
      " [0 0]\n",
      " [1 1]\n",
      " [0 0]\n",
      " [1 1]\n",
      " [0 0]\n",
      " [0 0]\n",
      " [0 0]\n",
      " [0 0]\n",
      " [0 0]\n",
      " [0 1]\n",
      " [1 1]\n",
      " [0 0]\n",
      " [0 0]\n",
      " [0 0]\n",
      " [0 0]\n",
      " [0 0]\n",
      " [0 0]\n",
      " [1 1]\n",
      " [0 0]\n",
      " [0 0]\n",
      " [0 0]\n",
      " [0 0]\n",
      " [1 1]\n",
      " [0 0]\n",
      " [0 0]\n",
      " [1 1]\n",
      " [0 0]\n",
      " [1 1]\n",
      " [1 1]\n",
      " [0 0]\n",
      " [0 0]\n",
      " [1 0]\n",
      " [1 1]\n",
      " [0 1]\n",
      " [0 0]\n",
      " [0 0]\n",
      " [1 1]\n",
      " [0 0]\n",
      " [0 0]\n",
      " [1 1]\n",
      " [0 0]\n",
      " [0 1]\n",
      " [0 0]\n",
      " [1 1]\n",
      " [0 0]\n",
      " [0 0]\n",
      " [0 0]\n",
      " [0 0]\n",
      " [1 1]\n",
      " [0 0]\n",
      " [0 0]\n",
      " [0 1]\n",
      " [0 0]\n",
      " [0 0]\n",
      " [0 0]\n",
      " [0 0]\n",
      " [1 1]\n",
      " [1 1]\n",
      " [1 1]\n",
      " [1 0]\n",
      " [0 0]\n",
      " [0 0]\n",
      " [1 1]\n",
      " [0 1]\n",
      " [0 0]\n",
      " [1 1]\n",
      " [0 1]\n",
      " [0 0]\n",
      " [0 0]\n",
      " [1 1]\n",
      " [0 0]\n",
      " [0 0]\n",
      " [0 0]\n",
      " [0 1]\n",
      " [0 0]\n",
      " [1 1]\n",
      " [1 1]\n",
      " [1 1]]\n"
     ]
    }
   ],
   "source": [
    "y_pred = classifier.predict(x_test)\n",
    "print(np.concatenate((y_pred.reshape(len(y_pred),1), y_test.reshape(len(y_test),1)), 1))"
   ]
  },
  {
   "cell_type": "markdown",
   "metadata": {},
   "source": [
    "## Confusion matrix"
   ]
  },
  {
   "cell_type": "code",
   "execution_count": 12,
   "metadata": {},
   "outputs": [
    {
     "name": "stdout",
     "output_type": "stream",
     "text": [
      "[[65  3]\n",
      " [ 7 25]]\n"
     ]
    }
   ],
   "source": [
    "from sklearn.metrics import confusion_matrix\n",
    "print(confusion_matrix(y_test, y_pred))"
   ]
  },
  {
   "cell_type": "markdown",
   "metadata": {},
   "source": [
    "## Accuracy score"
   ]
  },
  {
   "cell_type": "code",
   "execution_count": 13,
   "metadata": {},
   "outputs": [
    {
     "data": {
      "text/plain": [
       "0.9"
      ]
     },
     "execution_count": 13,
     "metadata": {},
     "output_type": "execute_result"
    }
   ],
   "source": [
    "from sklearn.metrics import accuracy_score\n",
    "accuracy_score(y_test, y_pred)"
   ]
  },
  {
   "cell_type": "code",
   "execution_count": 17,
   "metadata": {},
   "outputs": [
    {
     "data": {
      "text/plain": [
       "array([[9.01529673e-01, 9.84703268e-02],\n",
       "       [8.46064562e-01, 1.53935438e-01],\n",
       "       [8.60522779e-01, 1.39477221e-01],\n",
       "       [9.26129406e-01, 7.38705940e-02],\n",
       "       [9.03777770e-01, 9.62222302e-02],\n",
       "       [9.58963388e-01, 4.10366125e-02],\n",
       "       [9.13248838e-01, 8.67511623e-02],\n",
       "       [4.42290869e-02, 9.55770913e-01],\n",
       "       [9.89958205e-01, 1.00417951e-02],\n",
       "       [4.86935106e-01, 5.13064894e-01],\n",
       "       [9.56160686e-01, 4.38393136e-02],\n",
       "       [9.66688604e-01, 3.33113961e-02],\n",
       "       [8.64844464e-01, 1.35155536e-01],\n",
       "       [7.38194221e-01, 2.61805779e-01],\n",
       "       [9.76748827e-01, 2.32511727e-02],\n",
       "       [5.20571575e-01, 4.79428425e-01],\n",
       "       [8.02472836e-01, 1.97527164e-01],\n",
       "       [9.80417191e-01, 1.95828090e-02],\n",
       "       [3.90206458e-03, 9.96097935e-01],\n",
       "       [8.69533158e-01, 1.30466842e-01],\n",
       "       [9.04157107e-01, 9.58428930e-02],\n",
       "       [5.57312678e-03, 9.94426873e-01],\n",
       "       [7.57793344e-01, 2.42206656e-01],\n",
       "       [1.32782850e-01, 8.67217150e-01],\n",
       "       [9.81050822e-01, 1.89491780e-02],\n",
       "       [5.02170410e-03, 9.94978296e-01],\n",
       "       [9.26333845e-01, 7.36661554e-02],\n",
       "       [9.34210958e-01, 6.57890424e-02],\n",
       "       [8.54352360e-01, 1.45647640e-01],\n",
       "       [8.73192024e-01, 1.26807976e-01],\n",
       "       [9.71095718e-01, 2.89042822e-02],\n",
       "       [7.91534390e-01, 2.08465610e-01],\n",
       "       [8.85607595e-02, 9.11439241e-01],\n",
       "       [8.66585630e-01, 1.33414370e-01],\n",
       "       [9.80924339e-01, 1.90756611e-02],\n",
       "       [9.91966093e-01, 8.03390723e-03],\n",
       "       [9.74968847e-01, 2.50311530e-02],\n",
       "       [9.17440335e-01, 8.25596653e-02],\n",
       "       [9.44086779e-01, 5.59132207e-02],\n",
       "       [3.70616608e-01, 6.29383392e-01],\n",
       "       [9.33525424e-01, 6.64745763e-02],\n",
       "       [7.56921022e-01, 2.43078978e-01],\n",
       "       [9.43347073e-01, 5.66529274e-02],\n",
       "       [8.62881056e-01, 1.37118944e-01],\n",
       "       [1.76168824e-01, 8.23831176e-01],\n",
       "       [9.70458503e-01, 2.95414972e-02],\n",
       "       [7.85623316e-01, 2.14376684e-01],\n",
       "       [1.07691283e-01, 8.92308717e-01],\n",
       "       [9.71984791e-01, 2.80152091e-02],\n",
       "       [2.16211311e-01, 7.83788689e-01],\n",
       "       [4.90962677e-03, 9.95090373e-01],\n",
       "       [8.95484304e-01, 1.04515696e-01],\n",
       "       [8.99469145e-01, 1.00530855e-01],\n",
       "       [4.73695177e-01, 5.26304823e-01],\n",
       "       [2.59119405e-02, 9.74088060e-01],\n",
       "       [5.59419263e-01, 4.40580737e-01],\n",
       "       [9.26919078e-01, 7.30809224e-02],\n",
       "       [9.57601274e-01, 4.23987260e-02],\n",
       "       [3.40134783e-01, 6.59865217e-01],\n",
       "       [9.76877367e-01, 2.31226332e-02],\n",
       "       [9.08008728e-01, 9.19912721e-02],\n",
       "       [4.89332902e-02, 9.51066710e-01],\n",
       "       [9.85829280e-01, 1.41707196e-02],\n",
       "       [6.44581055e-01, 3.55418945e-01],\n",
       "       [9.88481672e-01, 1.15183282e-02],\n",
       "       [2.51753440e-02, 9.74824656e-01],\n",
       "       [9.54563162e-01, 4.54368382e-02],\n",
       "       [9.70458503e-01, 2.95414972e-02],\n",
       "       [7.92143727e-01, 2.07856273e-01],\n",
       "       [6.61719150e-01, 3.38280850e-01],\n",
       "       [4.55564124e-02, 9.54443588e-01],\n",
       "       [8.52758617e-01, 1.47241383e-01],\n",
       "       [9.84517433e-01, 1.54825673e-02],\n",
       "       [5.04391258e-01, 4.95608742e-01],\n",
       "       [9.30656718e-01, 6.93432820e-02],\n",
       "       [9.84686864e-01, 1.53131357e-02],\n",
       "       [5.98978613e-01, 4.01021387e-01],\n",
       "       [7.76896333e-01, 2.23103667e-01],\n",
       "       [1.93881657e-01, 8.06118343e-01],\n",
       "       [1.18614522e-01, 8.81385478e-01],\n",
       "       [4.91754177e-04, 9.99508246e-01],\n",
       "       [3.17803041e-02, 9.68219696e-01],\n",
       "       [9.81490248e-01, 1.85097523e-02],\n",
       "       [9.74094459e-01, 2.59055405e-02],\n",
       "       [7.43516285e-02, 9.25648372e-01],\n",
       "       [5.90432755e-01, 4.09567245e-01],\n",
       "       [7.13663113e-01, 2.86336887e-01],\n",
       "       [1.53932713e-03, 9.98460673e-01],\n",
       "       [5.35339772e-01, 4.64660228e-01],\n",
       "       [7.42387272e-01, 2.57612728e-01],\n",
       "       [6.90283668e-01, 3.09716332e-01],\n",
       "       [3.02851134e-02, 9.69714887e-01],\n",
       "       [9.84450484e-01, 1.55495158e-02],\n",
       "       [9.76967070e-01, 2.30329301e-02],\n",
       "       [9.63052147e-01, 3.69478533e-02],\n",
       "       [9.04548675e-01, 9.54513252e-02],\n",
       "       [9.82207831e-01, 1.77921694e-02],\n",
       "       [4.10781090e-01, 5.89218910e-01],\n",
       "       [2.21582232e-01, 7.78417768e-01],\n",
       "       [3.06989373e-01, 6.93010627e-01]])"
      ]
     },
     "execution_count": 17,
     "metadata": {},
     "output_type": "execute_result"
    }
   ],
   "source": [
    "classifier.predict_proba(x_test)"
   ]
  },
  {
   "cell_type": "code",
   "execution_count": null,
   "metadata": {},
   "outputs": [],
   "source": []
  }
 ],
 "metadata": {
  "kernelspec": {
   "display_name": "Python 3",
   "language": "python",
   "name": "python3"
  },
  "language_info": {
   "codemirror_mode": {
    "name": "ipython",
    "version": 3
   },
   "file_extension": ".py",
   "mimetype": "text/x-python",
   "name": "python",
   "nbconvert_exporter": "python",
   "pygments_lexer": "ipython3",
   "version": "3.8.5"
  }
 },
 "nbformat": 4,
 "nbformat_minor": 4
}
